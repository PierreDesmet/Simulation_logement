{
 "cells": [
  {
   "cell_type": "markdown",
   "id": "tamil-rally",
   "metadata": {},
   "source": [
    "# Simulation appartement avec Lisa\n",
    "\n",
    "Capacité d'emprunt MeilleurTaux : <a href=\"https://www.meilleurtaux.com/credit-immobilier/simulation-de-pret-immobilier/evaluez-vos-possibilites-d-emprunt.html\">lien</a>\n",
    "\n",
    "Taux d'endettement = (montant des mensualités + charges fixes x 100) / revenus (salaires nets + autres revenus)\n",
    "\n",
    "(montant des mensualités + charges fixes x 100) = Taux d'endettement * revenus\n"
   ]
  },
  {
   "cell_type": "code",
   "execution_count": 12,
   "id": "primary-position",
   "metadata": {
    "ExecuteTime": {
     "end_time": "2023-09-30T13:26:14.936108Z",
     "start_time": "2023-09-30T13:26:14.913545Z"
    }
   },
   "outputs": [],
   "source": [
    "import datetime\n",
    "import pandas as pd\n",
    "import matplotlib.pyplot as plt\n",
    "\n",
    "\n",
    "def montant_qui_sera_remboursé_à_date(date=datetime.date.today()):\n",
    "    \"\"\"Le montant qui aura été remboursé à la `date`\"\"\"\n",
    "    nb_mois_depuis_début_du_prêt = round((date - DATE_DÉBUT_DU_PRÊT_EXISTANT).days / 30.5)\n",
    "    montant_qui_sera_remboursé = nb_mois_depuis_début_du_prêt * MONTANT_REMBOURSÉ_PAR_MOIS\n",
    "    return montant_qui_sera_remboursé\n",
    "\n",
    "\n",
    "def nb_mois_depuis_que_lisa_économise():\n",
    "    dt_début_INSPART = datetime.date(2022, 11, 1)\n",
    "    return (datetime.date.today() - dt_début_INSPART).days // 30.5\n",
    "\n",
    "\n",
    "\n",
    "\n",
    "\n",
    "# Prompt\n",
    "LIEU = 'SAINT-GERMAIN EN LAYE'\n",
    "APPART_OU_MAISON = 'appartement'\n",
    "NEUF_OU_ANCIEN = 'ancien'\n",
    "DATE_ACHAT_FUTUR_LOGEMENT = datetime.date(2028, 1, 1)\n",
    "\n",
    "# Certitudes :\n",
    "DATE_DÉBUT_DU_PRÊT_EXISTANT = datetime.date(2020, 10, 1)\n",
    "MONTANT_REMBOURSÉ_PAR_MOIS = 878\n",
    "CHARGES_MENSUELLES = 215\n",
    "\n",
    "\n",
    "# \"Le taux maximum d'endettement ne peux excéder 35 % des revenus des emprunteurs, assurance comprise\"\n",
    "TAUX_MAX_ENDETTEMENT = 0.35  # assurance comprise\n",
    "PRIX_APPARTEMENT_CACHAN = 259_000\n",
    "MONTANT_EMPRUNTE = 192_000\n",
    "\n",
    "# Hypothèses pessimistes :\n",
    "AVEC_VENTE_APPARTEMENT_CACHAN = True\n",
    "SALAIRE_NET_MENSUEL_LVO_À_DATE_ACHAT = 3200\n",
    "SALAIRE_NET_MENSUEL_PDE_À_DATE_ACHAT = 3600\n",
    "CREDIT_A_LA_BNP = True\n",
    "TAUX_DU_CRÉDIT = 0.0392 / (1 + CREDIT_A_LA_BNP)\n",
    "TAUX_FRAIS_AGENCE = 0.045  # https://www.human-immobilier.fr/content/pdf/bareme_honoraires_human_immobilier.pdf"
   ]
  },
  {
   "cell_type": "code",
   "execution_count": 13,
   "id": "hindu-stephen",
   "metadata": {
    "ExecuteTime": {
     "end_time": "2023-09-30T13:26:15.356613Z",
     "start_time": "2023-09-30T13:26:15.348186Z"
    }
   },
   "outputs": [
    {
     "data": {
      "text/plain": [
       "378000.0"
      ]
     },
     "execution_count": 13,
     "metadata": {},
     "output_type": "execute_result"
    }
   ],
   "source": [
    "TAUX_MAX_ENDETTEMENT * (SALAIRE_NET_MENSUEL_PDE_À_DATE_ACHAT - ((not AVEC_VENTE_APPARTEMENT_CACHAN) * (MONTANT_REMBOURSÉ_PAR_MOIS + CHARGES_MENSUELLES))) * 300"
   ]
  },
  {
   "cell_type": "code",
   "execution_count": 14,
   "id": "continent-copper",
   "metadata": {
    "ExecuteTime": {
     "end_time": "2023-09-30T13:26:15.987813Z",
     "start_time": "2023-09-30T13:26:15.914317Z"
    }
   },
   "outputs": [
    {
     "name": "stdout",
     "output_type": "stream",
     "text": [
      "prix_maximal_appartement=870736\n",
      "\n",
      "Attention, il faut prendre en compte :\n",
      "L'inflation :                           740989\n",
      "Le coût du crédit (hors assurance) : 726994\n",
      "Les frais de notaire :                  668835\n",
      "Les frais d'agence :                    638737\n"
     ]
    }
   ],
   "source": [
    "nb_mois_restants_avant_achat = round((DATE_ACHAT_FUTUR_LOGEMENT - datetime.date.today()).days / 30.5)\n",
    "montant_qui_sera_remboursé = montant_qui_sera_remboursé_à_date(date=DATE_ACHAT_FUTUR_LOGEMENT)\n",
    "prix_estimé_revente = PRIX_APPARTEMENT_CACHAN * (1 + lieu_to_inflation_appart['CACHAN'])\n",
    "gain_revente = prix_estimé_revente - PRIX_APPARTEMENT_CACHAN\n",
    "dû_à_la_banque = MONTANT_EMPRUNTE - montant_qui_sera_remboursé\n",
    "\n",
    "apport_qui_sera_apporté_pde = APPORT_PDE_ACTUEL\n",
    "apport_qui_sera_apporté_pde += GAIN_MOYEN_PAR_MOIS_PDE * nb_mois_restants_avant_achat\n",
    "apport_qui_sera_apporté_pde += gain_revente * AVEC_VENTE_APPARTEMENT_CACHAN\n",
    "apport_qui_sera_apporté_pde -= dû_à_la_banque * AVEC_VENTE_APPARTEMENT_CACHAN\n",
    "\n",
    "apport_qui_sera_apporté_lvo = APPORT_LVO_ACTUEL\n",
    "apport_qui_sera_apporté_lvo += GAIN_MOYEN_PAR_MOIS_LVO * nb_mois_restants_avant_achat\n",
    "\n",
    "\n",
    "capacité_max_emprunt_pde = TAUX_MAX_ENDETTEMENT * (SALAIRE_NET_MENSUEL_PDE_À_DATE_ACHAT - ((not AVEC_VENTE_APPARTEMENT_CACHAN) * (MONTANT_REMBOURSÉ_PAR_MOIS + CHARGES_MENSUELLES)))\n",
    "capacité_max_emprunt_pde *= DURÉE_MAX_CRÉDIT_EN_MOIS\n",
    "capacité_max_emprunt_lvo = TAUX_MAX_ENDETTEMENT * SALAIRE_NET_MENSUEL_LVO_À_DATE_ACHAT\n",
    "capacité_max_emprunt_lvo *= DURÉE_MAX_CRÉDIT_EN_MOIS\n",
    "\n",
    "capacité_emprunt_totale = capacité_max_emprunt_pde + capacité_max_emprunt_lvo\n",
    "montant_total_qui_sera_apporté = apport_qui_sera_apporté_pde + apport_qui_sera_apporté_lvo\n",
    "\n",
    "prix_maximal_appartement = montant_total_qui_sera_apporté + capacité_emprunt_totale\n",
    "\n",
    "print(f'{prix_maximal_appartement=:.0f}\\n')\n",
    "\n",
    "print(\"Attention, il faut prendre en compte :\")\n",
    "\n",
    "lieu_to_inflation = lieu_to_inflation_appart if APPART_OU_MAISON == 'appartement' else lieu_to_inflation_maison\n",
    "inflation_temps_restants_avant_achat = (nb_mois_restants_avant_achat / 12) / 5 * lieu_to_inflation[LIEU]\n",
    "prix_maximal_appartement = round(prix_maximal_appartement / (1 + inflation_temps_restants_avant_achat))\n",
    "item = \"L'inflation :\"\n",
    "print(f'{item:<39}', prix_maximal_appartement)\n",
    "\n",
    "item = 'Le coût du crédit (hors assurance) :'\n",
    "prix_maximal_appartement -= TAUX_DU_CRÉDIT * capacité_emprunt_totale\n",
    "print(f'{item:<22}', int(prix_maximal_appartement))\n",
    "\n",
    "frais_de_notaire = 0.08 if NEUF_OU_ANCIEN == 'ancien' else 0.03\n",
    "frais_de_notaire *= prix_maximal_appartement\n",
    "prix_maximal_appartement -= frais_de_notaire\n",
    "item = \"Les frais de notaire :\"\n",
    "print(f'{item:<39}', int(prix_maximal_appartement))\n",
    "\n",
    "prix_maximal_appartement -= (TAUX_FRAIS_AGENCE * prix_maximal_appartement)\n",
    "item = \"Les frais d'agence :\"\n",
    "print(f'{item:<39}', int(prix_maximal_appartement))"
   ]
  },
  {
   "cell_type": "code",
   "execution_count": null,
   "id": "invisible-rolling",
   "metadata": {},
   "outputs": [],
   "source": [
    "Il faut ajouter l'assurance du crédit...\n",
    "Et retirer mes 200€ de charge pour les remplacer par le montant estimé de mes futures charges ?"
   ]
  },
  {
   "cell_type": "code",
   "execution_count": null,
   "id": "resistant-norway",
   "metadata": {},
   "outputs": [],
   "source": []
  },
  {
   "cell_type": "code",
   "execution_count": null,
   "id": "integral-technology",
   "metadata": {},
   "outputs": [],
   "source": []
  },
  {
   "cell_type": "markdown",
   "id": "institutional-marathon",
   "metadata": {},
   "source": [
    "### Corbeille"
   ]
  },
  {
   "cell_type": "raw",
   "id": "greatest-dispute",
   "metadata": {
    "ExecuteTime": {
     "end_time": "2023-04-22T08:58:11.281650Z",
     "start_time": "2023-04-22T08:58:11.269568Z"
    }
   },
   "source": [
    "années = []\n",
    "prix_max_appart = []"
   ]
  },
  {
   "cell_type": "code",
   "execution_count": 64,
   "id": "signal-utility",
   "metadata": {
    "ExecuteTime": {
     "end_time": "2023-04-22T08:58:35.343544Z",
     "start_time": "2023-04-22T08:58:35.332939Z"
    }
   },
   "outputs": [],
   "source": [
    "années.append(DATE_ACHAT_FUTUR_LOGEMENT.year)\n",
    "prix_max_appart.append(prix_maximal_appartement)"
   ]
  },
  {
   "cell_type": "code",
   "execution_count": 66,
   "id": "minus-means",
   "metadata": {
    "ExecuteTime": {
     "end_time": "2023-04-22T08:59:12.830340Z",
     "start_time": "2023-04-22T08:59:12.824338Z"
    }
   },
   "outputs": [
    {
     "data": {
      "text/plain": [
       "[(2026, 635666.8746999999),\n",
       " (2027, 671736.4746999999),\n",
       " (2028, 707805.1246999999)]"
      ]
     },
     "execution_count": 66,
     "metadata": {},
     "output_type": "execute_result"
    }
   ],
   "source": [
    "list(zip(années, prix_max_appart))"
   ]
  }
 ],
 "metadata": {
  "kernelspec": {
   "display_name": "pierrou_env",
   "language": "python",
   "name": "pierrou_env"
  },
  "language_info": {
   "codemirror_mode": {
    "name": "ipython",
    "version": 3
   },
   "file_extension": ".py",
   "mimetype": "text/x-python",
   "name": "python",
   "nbconvert_exporter": "python",
   "pygments_lexer": "ipython3",
   "version": "3.8.5"
  }
 },
 "nbformat": 4,
 "nbformat_minor": 5
}
